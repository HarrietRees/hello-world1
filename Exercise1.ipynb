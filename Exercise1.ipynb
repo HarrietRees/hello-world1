{
 "cells": [
  {
   "cell_type": "code",
   "execution_count": 7,
   "metadata": {
    "collapsed": false
   },
   "outputs": [
    {
     "name": "stdout",
     "output_type": "stream",
     "text": [
      "(3, ['test', 'non'])\n"
     ]
    }
   ],
   "source": [
    "#Given a list of strings, return the count of the number of strings where the string length is 2 or more and the first and last chars of the string are the same.\n",
    "\n",
    "#Note: python does not have a ++ operator, but += works.~\n",
    "def match_ends(words):\n",
    "    length=len(words)\n",
    "    words= [x for x in words if len(x)>2 and x[0]==x[len(x)-1]]\n",
    "    \n",
    "    return length, words\n",
    "\n",
    "words=[\"hello\", \"test\", \"non\"]\n",
    "print match_ends(words)\n",
    "\n",
    "\n"
   ]
  },
  {
   "cell_type": "code",
   "execution_count": 8,
   "metadata": {
    "collapsed": false
   },
   "outputs": [
    {
     "ename": "SyntaxError",
     "evalue": "'return' outside function (<ipython-input-8-a6394eff3749>, line 11)",
     "output_type": "error",
     "traceback": [
      "\u001b[1;36m  File \u001b[1;32m\"<ipython-input-8-a6394eff3749>\"\u001b[1;36m, line \u001b[1;32m11\u001b[0m\n\u001b[1;33m    return list1 + list2\u001b[0m\n\u001b[1;31mSyntaxError\u001b[0m\u001b[1;31m:\u001b[0m 'return' outside function\n"
     ]
    }
   ],
   "source": [
    "#Given a list of strings, return a list with the strings in sorted order, except group all the strings that begin with 'x' first.\n",
    "#def front_x(words):\n",
    "list1 = ['xyz', 'xanadu']\n",
    "list2 = ['mix','apple','aardvark']\n",
    "\n",
    "\n",
    "    \n",
    "    #list3 = ['mix', 'xyz', 'apple', 'xanadu', 'aardvark']\n",
    "list1.sort()\n",
    "list2.sort()\n",
    "return list1 + list2"
   ]
  },
  {
   "cell_type": "code",
   "execution_count": 9,
   "metadata": {
    "collapsed": false
   },
   "outputs": [
    {
     "ename": "NameError",
     "evalue": "name 'listX' is not defined",
     "output_type": "error",
     "traceback": [
      "\u001b[1;31m---------------------------------------------------------------------------\u001b[0m",
      "\u001b[1;31mNameError\u001b[0m                                 Traceback (most recent call last)",
      "\u001b[1;32m<ipython-input-9-d9be2a4e22db>\u001b[0m in \u001b[0;36m<module>\u001b[1;34m()\u001b[0m\n\u001b[0;32m      9\u001b[0m     \u001b[0mlistO\u001b[0m\u001b[1;33m.\u001b[0m\u001b[0mappend\u001b[0m\u001b[1;33m(\u001b[0m\u001b[0mw\u001b[0m\u001b[1;33m)\u001b[0m\u001b[1;33m\u001b[0m\u001b[0m\n\u001b[0;32m     10\u001b[0m \u001b[1;33m\u001b[0m\u001b[0m\n\u001b[1;32m---> 11\u001b[1;33m \u001b[0mlistX\u001b[0m\u001b[1;33m.\u001b[0m\u001b[0msort\u001b[0m\u001b[1;33m(\u001b[0m\u001b[1;33m)\u001b[0m\u001b[1;33m\u001b[0m\u001b[0m\n\u001b[0m\u001b[0;32m     12\u001b[0m \u001b[0mlistO\u001b[0m\u001b[1;33m.\u001b[0m\u001b[0msort\u001b[0m\u001b[1;33m(\u001b[0m\u001b[1;33m)\u001b[0m\u001b[1;33m\u001b[0m\u001b[0m\n\u001b[0;32m     13\u001b[0m \u001b[1;33m\u001b[0m\u001b[0m\n",
      "\u001b[1;31mNameError\u001b[0m: name 'listX' is not defined"
     ]
    }
   ],
   "source": [
    "  def front_x(words):\n",
    "     listX = []\n",
    "listO = []\n",
    "\n",
    "  for w in words:\n",
    "    if w.startswith('x'):\n",
    "      listX.append(w)\n",
    "    else:\n",
    "      listO.append(w)\n",
    "\n",
    "  listX.sort()\n",
    "  listO.sort()\n",
    "\n",
    "  return listX + listO\n",
    "words=('mix', 'xyz', 'apple', 'xanadu', 'aardvark')\n",
    "print front_x(words)\n"
   ]
  },
  {
   "cell_type": "code",
   "execution_count": 10,
   "metadata": {
    "collapsed": false
   },
   "outputs": [
    {
     "name": "stdout",
     "output_type": "stream",
     "text": [
      "[(2, 2), (1, 3), (3, 4, 5), (1, 7)]\n"
     ]
    }
   ],
   "source": [
    "#Given a list of non-empty tuples, return a list sorted in increasing order by the last element in each tuple.\n",
    "\n",
    "def last(t): return t[-1]\n",
    "\n",
    "def sort_last(tuples):\n",
    "  return sorted(tuples, key=last)\n",
    "\n",
    "\n",
    "tuples=[(1, 7), (1, 3), (3, 4, 5), (2, 2)]\n",
    "print sort_last(tuples)"
   ]
  },
  {
   "cell_type": "code",
   "execution_count": 11,
   "metadata": {
    "collapsed": true
   },
   "outputs": [],
   "source": [
    "def test(got, expected):\n",
    "    if got == expected:\n",
    "        prefix = ' OK '\n",
    "    else:\n",
    "        prefix = '  X '\n",
    "    print '%s got: %s expected: %s' % (prefix, repr(got), repr(expected))\n"
   ]
  },
  {
   "cell_type": "code",
   "execution_count": 12,
   "metadata": {
    "collapsed": true
   },
   "outputs": [],
   "source": [
    "def main():\n",
    "    print 'match_ends'\n",
    "    test(match_ends(['aba', 'xyz', 'aa', 'x', 'bbb']), 3)\n",
    "    test(match_ends(['', 'x', 'xy', 'xyx', 'xx']), 2)\n",
    "    test(match_ends(['aaa', 'be', 'abc', 'hello']), 1)\n",
    "\n",
    "    print\n",
    "    print 'front_x'\n",
    "    test(front_x(['bbb', 'ccc', 'axx', 'xzz', 'xaa']),\n",
    "        ['xaa', 'xzz', 'axx', 'bbb', 'ccc'])\n",
    "    test(front_x(['ccc', 'bbb', 'aaa', 'xcc', 'xaa']),\n",
    "        ['xaa', 'xcc', 'aaa', 'bbb', 'ccc'])\n",
    "    test(front_x(['mix', 'xyz', 'apple', 'xanadu', 'aardvark']),\n",
    "        ['xanadu', 'xyz', 'aardvark', 'apple', 'mix'])\n"
   ]
  },
  {
   "cell_type": "code",
   "execution_count": 13,
   "metadata": {
    "collapsed": false
   },
   "outputs": [
    {
     "name": "stdout",
     "output_type": "stream",
     "text": [
      "match_ends\n",
      "  X  got: (5, ['aba', 'bbb']) expected: 3\n",
      "  X  got: (5, ['xyx']) expected: 2\n",
      "  X  got: (4, ['aaa']) expected: 1\n",
      "\n",
      "front_x\n",
      "  X  got: None expected: ['xaa', 'xzz', 'axx', 'bbb', 'ccc']\n",
      "  X  got: None expected: ['xaa', 'xcc', 'aaa', 'bbb', 'ccc']\n",
      "  X  got: None expected: ['xanadu', 'xyz', 'aardvark', 'apple', 'mix']\n"
     ]
    }
   ],
   "source": [
    "main()"
   ]
  },
  {
   "cell_type": "code",
   "execution_count": 27,
   "metadata": {
    "collapsed": false
   },
   "outputs": [
    {
     "name": "stdout",
     "output_type": "stream",
     "text": [
      "[1, 2, 3]\n"
     ]
    }
   ],
   "source": [
    "#Given a list of numbers, return a list where all adjacent == elements have been reduced to a single element,\n",
    "#so [1, 2, 2, 3] returns [1, 2, 3]. \n",
    "#You may create a new list or modify the passed in list.\n",
    "def remove_adjacent(nums):\n",
    "  a = nums[:1]\n",
    "  for x in nums[1:]:\n",
    "    if x != a[-1]:\n",
    "      a.append(x)\n",
    "  return a\n",
    "nums=[1,2,2,3]\n",
    "print remove_adjacent(nums)"
   ]
  },
  {
   "cell_type": "code",
   "execution_count": 25,
   "metadata": {
    "collapsed": false
   },
   "outputs": [
    {
     "name": "stdout",
     "output_type": "stream",
     "text": [
      "[1, 2, 3]\n"
     ]
    }
   ],
   "source": [
    "#Given two lists sorted in increasing order, \n",
    "#create and return a merged list of all the elements in sorted order. \n",
    "#You may modify the passed in lists. \n",
    "#Ideally, the solution should work in \"linear\" time, making a single pass of both lists."
   ]
  },
  {
   "cell_type": "code",
   "execution_count": null,
   "metadata": {
    "collapsed": true
   },
   "outputs": [],
   "source": []
  },
  {
   "cell_type": "code",
   "execution_count": 39,
   "metadata": {
    "collapsed": false
   },
   "outputs": [
    {
     "data": {
      "text/plain": [
       "[1, 1, 2, 2, 6, 6, 7, 9]"
      ]
     },
     "execution_count": 39,
     "metadata": {},
     "output_type": "execute_result"
    }
   ],
   "source": [
    "\n",
    "def linear_merge(list1, list2):\n",
    "    result = []\n",
    "    i = j = 0\n",
    "    total = len(list1) + len(list2)\n",
    "    while len(result) != total:\n",
    "        if len(list1) == i:\n",
    "            result += list2[j:]\n",
    "            break\n",
    "        elif len(list2) == j:\n",
    "            result += list1[i:]\n",
    "            break\n",
    "        elif list1[i] < list2[j]:\n",
    "            result.append(list1[i])\n",
    "            i += 1\n",
    "        else:\n",
    "            result.append(list1[j])\n",
    "            j += 1\n",
    "    return result\n",
    "\n",
    "merge([1,2,6,7], [1,3,5,9])\n"
   ]
  },
  {
   "cell_type": "code",
   "execution_count": 40,
   "metadata": {
    "collapsed": false
   },
   "outputs": [],
   "source": [
    "def test(got, expected):\n",
    "    if got == expected:\n",
    "        prefix = ' OK '\n",
    "    else:\n",
    "        prefix = '  X '\n",
    "    print '%s got: %s expected: %s' % (prefix, repr(got), repr(expected))\n"
   ]
  },
  {
   "cell_type": "code",
   "execution_count": 41,
   "metadata": {
    "collapsed": false
   },
   "outputs": [
    {
     "name": "stdout",
     "output_type": "stream",
     "text": [
      "remove_adjacent\n",
      " OK  got: [1, 2, 3] expected: [1, 2, 3]\n",
      " OK  got: [2, 3] expected: [2, 3]\n",
      " OK  got: [] expected: []\n",
      "\n",
      "linear_merge\n",
      "  X  got: ['aa', 'aa', 'xx', 'xx', 'zz'] expected: ['aa', 'bb', 'cc', 'xx', 'zz']\n",
      "  X  got: ['aa', 'aa', 'xx', 'xx', 'zz'] expected: ['aa', 'bb', 'cc', 'xx', 'zz']\n",
      " OK  got: ['aa', 'aa', 'aa', 'bb', 'bb'] expected: ['aa', 'aa', 'aa', 'bb', 'bb']\n"
     ]
    }
   ],
   "source": [
    "def main():\n",
    "    print 'remove_adjacent'\n",
    "    test(remove_adjacent([1, 2, 2, 3]), [1, 2, 3])\n",
    "    test(remove_adjacent([2, 2, 3, 3, 3]), [2, 3])\n",
    "    test(remove_adjacent([]), [])\n",
    "\n",
    "    print\n",
    "    print 'linear_merge'\n",
    "    test(linear_merge(['aa', 'xx', 'zz'], ['bb', 'cc']),\n",
    "        ['aa', 'bb', 'cc', 'xx', 'zz'])\n",
    "    test(linear_merge(['aa', 'xx'], ['bb', 'cc', 'zz']),\n",
    "        ['aa', 'bb', 'cc', 'xx', 'zz'])\n",
    "    test(linear_merge(['aa', 'aa'], ['aa', 'bb', 'bb']),\n",
    "        ['aa', 'aa', 'aa', 'bb', 'bb'])\n",
    "main()"
   ]
  },
  {
   "cell_type": "code",
   "execution_count": null,
   "metadata": {
    "collapsed": true
   },
   "outputs": [],
   "source": []
  }
 ],
 "metadata": {
  "kernelspec": {
   "display_name": "Python 2",
   "language": "python",
   "name": "python2"
  },
  "language_info": {
   "codemirror_mode": {
    "name": "ipython",
    "version": 2
   },
   "file_extension": ".py",
   "mimetype": "text/x-python",
   "name": "python",
   "nbconvert_exporter": "python",
   "pygments_lexer": "ipython2",
   "version": "2.7.11"
  }
 },
 "nbformat": 4,
 "nbformat_minor": 0
}
